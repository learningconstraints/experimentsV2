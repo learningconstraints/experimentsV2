{
 "cells": [
  {
   "cell_type": "code",
   "execution_count": 1,
   "metadata": {},
   "outputs": [],
   "source": [
    "import requests\n",
    "\n",
    "url=\"https://apollo-mod.euw.leagueoflegends.com/applications/aNtOsJOv/discussions/EnwwfAos\""
   ]
  },
  {
   "cell_type": "code",
   "execution_count": 6,
   "metadata": {},
   "outputs": [
    {
     "data": {
      "text/plain": [
       "'<!DOCTYPE html>\\n<html lang=\"en\">\\n  <head>\\n    <meta charset=\"utf-8\">\\n\\n    <title>Apollo Admin App</title>\\n\\n    <meta name=\"viewport\" content=\"width=device-width, initial-scale=1.0\">\\n    <meta name=\"description\" content=\"\">\\n    <meta name=\"author\" content=\"\">\\n\\n            \\n    <script type=\"text/javascript\" src=\"/js/9c73bca.js\"></script>\\n\\n\\n\\n          <!-- Fav and touch icons -->\\n      <link rel=\"apple-touch-icon-precomposed\" sizes=\"144x144\" href=\"../assets/ico/apple-touch-icon-144-precomposed.png\">\\n      <link rel=\"apple-touch-icon-precomposed\" sizes=\"114x114\" href=\"../assets/ico/apple-touch-icon-114-precomposed.png\">\\n      <link rel=\"apple-touch-icon-precomposed\" sizes=\"72x72\" href=\"../assets/ico/apple-touch-icon-72-precomposed.png\">\\n      <link rel=\"apple-touch-icon-precomposed\" href=\"../assets/ico/apple-touch-icon-57-precomposed.png\">\\n      <link rel=\"shortcut icon\" href=\"../assets/ico/favicon.png\">\\n      </head>\\n\\n  <body class=\"\">\\n\\n    <!-- Include Body -->\\n        <div class=\"container bs-docs-container\">\\n        <!-- <div class=\\'row search\\'>\\n    <div class=\\'col-md-4 col-md-offset-8 text-right\\'> -->\\n\\n  <!-- </div>\\n</div> -->\\n  <div class=\"panel panel-default\">\\n    Whoa there. You need to login first.\\n  </div>\\n\\n\\n    </div>\\n\\n    <!-- Include JS Files -->\\n        \\n    \\n<input id=\"embedly_key\" type=\"hidden\" value=\"f0abbd34f14549f3a15cd94dd9970851\"/>\\n<script async type=\"text/javascript\" src=\"https://lolstatic-a.akamaihd.net/riotbar/prod/latest/en_GB.js\"></script>\\n<script type=\"text/javascript\">\\n\\n    window.riotBarConfig = {\\n      touchpoints: {\\n        activeTouchpoint: \\'boards\\'\\n      },\\n      serviceStatus: {\\n        enabled: false\\n      },\\n      locale: {\\n        landingUrlPattern : \\'https://apollo-mod.euw.leagueoflegends.com/\\',\\n        locales: {\\n                    \"euw\": [\"en_GB\",\"en_PL\",\"de_DE\",\"es_ES\",\"fr_FR\",\"it_IT\",\"el_GR\",\"ro_RO\",\"pl_PL\",\"cs_CZ\",\"hu_HU\"]                   }\\n      },\\n      notifications: {\\n        apolloWidgetsJS: \\'https://s3-us-west-2.amazonaws.com/apollo-dev/apollo-widgets/apollo.js\\',\\n        notificationsServiceUrl: \\'https://notifications.leagueoflegends.com/api/1.0\\',\\n        boardsUrl: \\'https://boards.euw.leagueoflegends.com/\\',\\n        apolloServiceUrl: \\'https://apollo.euw.leagueoflegends.com/apollo/\\'\\n      }\\n    };\\n\\n    window.rg_force_manifest = \\'https://ddragon.leagueoflegends.com/realms/pbe.js\\';\\n</script>\\n\\n<script type=\"text/javascript\" src=\"https://ddragon.leagueoflegends.com/cdn/dragonhead.js\"></script>\\n\\n<script type=\"text/javascript\" src=\"/js/7adfb4f.js\"></script>\\n\\n\\n  </body>\\n</html>\\n'"
      ]
     },
     "execution_count": 6,
     "metadata": {},
     "output_type": "execute_result"
    }
   ],
   "source": [
    "cookie = \"using_cookie_policy_v2=true; __cfduid=d68aa6d2fb4f180c6b4a32f2aff6485961517933503; PVPNET_REGION=euw; ajs_group_id=null; ajs_user_id=%22EUW_27695644%22; _ga=GA1.2.129157090.1518106836; s_fid=4D2C29A60180560F-332BC22100D6CC8B; rp2=1521809698454-Repeat; notice_preferences=2:; PVPNET_LANG=en_US;PVPNET_ACCT_EUW=zerhel; PVPNET_ID_EUW=24211691;id_hint=sub%3Dede06b8b-e1d0-5a4f-8b41-e0ffe0a4f813%26id%3D24211691%26summoner%3Dzerhel%26region%3DEUW1%26tag%3Deuw%26lang%3Den; ping_session_id=70fb12be-c8bd-4b6f-9441-55f0213bfea3; s_cc=true; s_ppv=lol2%253Aeuw%253Afr%253Aapollo%2520forums%253Afr%253Aaide-et-support-fr%253Aje%2520me%2520suis%2520fait%2520perma%2520ban%2C39%2C31%2C1309; s_sq=%5B%5BB%5D%5D; s_nr=1521809698453-Repeat; _gid=GA1.2.1733394111.1521807234; APOLLO_TOKEN=1cd68661c5794a7ad0db1e969edfd16b3e00249e; PHPSESSID=vcq08hd12el6t6nij0rul2vkr3; using_cookie_policy_v2=true; _gat=1\"\n",
    "r = requests.get(url,headers={\"Cookie\":cookie})\n",
    "r.text"
   ]
  },
  {
   "cell_type": "code",
   "execution_count": 8,
   "metadata": {},
   "outputs": [
    {
     "data": {
      "text/plain": [
       "{'Date': 'Fri, 23 Mar 2018 13:14:05 GMT', 'Content-Type': 'text/html; charset=UTF-8', 'Content-Length': '2565', 'Connection': 'keep-alive', 'Cache-Control': 'no-cache', 'Set-Cookie': 'PHPSESSID=hv8hqtfv05jajfscmfi376jke7; path=/', 'Expect-CT': 'max-age=604800, report-uri=\"https://report-uri.cloudflare.com/cdn-cgi/beacon/expect-ct\"', 'Server': 'cloudflare', 'CF-RAY': '400128b7dc8a3c89-CDG'}"
      ]
     },
     "execution_count": 8,
     "metadata": {},
     "output_type": "execute_result"
    }
   ],
   "source": [
    "r.headers"
   ]
  },
  {
   "cell_type": "code",
   "execution_count": null,
   "metadata": {},
   "outputs": [],
   "source": []
  }
 ],
 "metadata": {
  "kernelspec": {
   "display_name": "Python 3",
   "language": "python",
   "name": "python3"
  },
  "language_info": {
   "codemirror_mode": {
    "name": "ipython",
    "version": 3
   },
   "file_extension": ".py",
   "mimetype": "text/x-python",
   "name": "python",
   "nbconvert_exporter": "python",
   "pygments_lexer": "ipython3",
   "version": "3.6.4"
  }
 },
 "nbformat": 4,
 "nbformat_minor": 2
}
