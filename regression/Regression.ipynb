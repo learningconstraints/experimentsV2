{
 "cells": [
  {
   "cell_type": "code",
   "execution_count": 1,
   "metadata": {},
   "outputs": [],
   "source": [
    "import subprocess\n",
    "\n",
    "#Params\n",
    "datasetPath = \"../datasets/\"\n",
    "dataPath = \"./data/\"\n",
    "#resultPath = \"./results/heatmaps/Apache/\"\n",
    "filenames = [\"Apache\"]\n",
    "perf=\"perf\"\n",
    "\n",
    "\n",
    "#Params for sensistivity\n",
    "NBINS = 40 # Number of vertical bins for threshold\n",
    "NSUBS = 10 # Number of training sets to average on\n",
    "srm = 1 # Minimum sampling size\n",
    "srM=[]\n",
    "srs = []\n",
    "for k,filename in enumerate(filenames):\n",
    "    srM.append(int(subprocess.check_output(\"echo $(wc -l < \"+datasetPath+filename+\".csv)\", shell=True))) # Maximum sampling size\n",
    "    srs.append(srM[k]//100) # Sampling step between two iterations\n",
    "    \n",
    "    \n",
    "#Params for Decision Tree\n",
    "#Default params\n",
    "treeParamsDefault = {\n",
    "    \"criterion\":\"gini\",\n",
    "    \"splitter\":\"best\",\n",
    "    \"max_features\":None,\n",
    "    \"max_depth\":None,\n",
    "    \"min_samples_split\":2,\n",
    "    \"min_samples_leaf\":1,\n",
    "    \"min_weight_fraction_leaf\":0.,\n",
    "    \"max_leaf_nodes\":None,\n",
    "    \"class_weight\":None,\n",
    "    \"random_state\":None,\n",
    "    \"min_impurity_decrease\":1e-7,\n",
    "    \"presort\":False\n",
    "}\n",
    "treeParams = treeParamsDefault"
   ]
  },
  {
   "cell_type": "code",
   "execution_count": 43,
   "metadata": {},
   "outputs": [],
   "source": [
    "import sys\n",
    "import pandas as pd\n",
    "from sklearn import tree\n",
    "from sklearn.model_selection import ShuffleSplit\n",
    "from sklearn.metrics import mean_squared_error as mse"
   ]
  },
  {
   "cell_type": "code",
   "execution_count": 27,
   "metadata": {},
   "outputs": [],
   "source": [
    "data = pd.read_csv(\"../datasets/Apache.csv\")"
   ]
  },
  {
   "cell_type": "code",
   "execution_count": 28,
   "metadata": {},
   "outputs": [
    {
     "name": "stderr",
     "output_type": "stream",
     "text": [
      "/usr/lib64/python3.6/site-packages/sklearn/model_selection/_split.py:1639: FutureWarning: From version 0.21, test_size will always complement train_size unless both are specified.\n",
      "  FutureWarning)\n"
     ]
    }
   ],
   "source": [
    "shuffle_split = ShuffleSplit(train_size=20, n_splits=10)"
   ]
  },
  {
   "cell_type": "code",
   "execution_count": 31,
   "metadata": {},
   "outputs": [],
   "source": [
    "c = tree.DecisionTreeRegressor()"
   ]
  },
  {
   "cell_type": "code",
   "execution_count": 32,
   "metadata": {},
   "outputs": [],
   "source": [
    "for train_index, test_index in shuffle_split.split(data,data.perf):\n",
    "    c.fit(data.drop([\"perf\"],axis=1).iloc[train_index], data.perf.iloc[train_index])\n",
    "    pred = c.predict(data.drop([\"perf\"],axis=1).iloc[test_index])"
   ]
  },
  {
   "cell_type": "code",
   "execution_count": 33,
   "metadata": {},
   "outputs": [
    {
     "data": {
      "text/plain": [
       "array([2460., 1170.,  870., 2190., 1200., 1470., 1470., 2640., 1200.,\n",
       "       1110., 1350., 2640.,  870., 1800., 1350., 1170.,  870., 1200.,\n",
       "       1950., 1350.])"
      ]
     },
     "execution_count": 33,
     "metadata": {},
     "output_type": "execute_result"
    }
   ],
   "source": [
    "pred"
   ]
  },
  {
   "cell_type": "code",
   "execution_count": 35,
   "metadata": {},
   "outputs": [
    {
     "data": {
      "text/plain": [
       "89     2220\n",
       "112    1200\n",
       "95     1050\n",
       "164    2400\n",
       "34     1140\n",
       "167    1380\n",
       "158    1260\n",
       "113    2040\n",
       "46     1230\n",
       "39     1200\n",
       "84     1140\n",
       "149    1920\n",
       "87      960\n",
       "118    1890\n",
       "81     1170\n",
       "97     1050\n",
       "76      900\n",
       "100    1230\n",
       "178    2280\n",
       "53     1230\n",
       "Name: perf, dtype: int64"
      ]
     },
     "execution_count": 35,
     "metadata": {},
     "output_type": "execute_result"
    }
   ],
   "source": [
    "data['perf'].iloc[test_index]"
   ]
  },
  {
   "cell_type": "code",
   "execution_count": 36,
   "metadata": {},
   "outputs": [],
   "source": [
    "ndf = pd.DataFrame()"
   ]
  },
  {
   "cell_type": "code",
   "execution_count": 39,
   "metadata": {},
   "outputs": [],
   "source": [
    "ndf['perf'] = data['perf'].iloc[test_index]\n",
    "ndf['pred'] = pred\n",
    "ndf['error'] = ndf['perf'] - ndf['pred']\n",
    "ndf['square_error'] = ndf['error'] * ndf['error']"
   ]
  },
  {
   "cell_type": "code",
   "execution_count": 41,
   "metadata": {},
   "outputs": [
    {
     "data": {
      "text/plain": [
       "65520.0"
      ]
     },
     "execution_count": 41,
     "metadata": {},
     "output_type": "execute_result"
    }
   ],
   "source": [
    "ndf['square_error'].mean()"
   ]
  },
  {
   "cell_type": "code",
   "execution_count": 42,
   "metadata": {},
   "outputs": [
    {
     "data": {
      "text/html": [
       "<div>\n",
       "<style scoped>\n",
       "    .dataframe tbody tr th:only-of-type {\n",
       "        vertical-align: middle;\n",
       "    }\n",
       "\n",
       "    .dataframe tbody tr th {\n",
       "        vertical-align: top;\n",
       "    }\n",
       "\n",
       "    .dataframe thead th {\n",
       "        text-align: right;\n",
       "    }\n",
       "</style>\n",
       "<table border=\"1\" class=\"dataframe\">\n",
       "  <thead>\n",
       "    <tr style=\"text-align: right;\">\n",
       "      <th></th>\n",
       "      <th>perf</th>\n",
       "      <th>pred</th>\n",
       "      <th>error</th>\n",
       "      <th>square_error</th>\n",
       "    </tr>\n",
       "  </thead>\n",
       "  <tbody>\n",
       "    <tr>\n",
       "      <th>89</th>\n",
       "      <td>2220</td>\n",
       "      <td>2460.0</td>\n",
       "      <td>-240.0</td>\n",
       "      <td>57600.0</td>\n",
       "    </tr>\n",
       "    <tr>\n",
       "      <th>112</th>\n",
       "      <td>1200</td>\n",
       "      <td>1170.0</td>\n",
       "      <td>30.0</td>\n",
       "      <td>900.0</td>\n",
       "    </tr>\n",
       "    <tr>\n",
       "      <th>95</th>\n",
       "      <td>1050</td>\n",
       "      <td>870.0</td>\n",
       "      <td>180.0</td>\n",
       "      <td>32400.0</td>\n",
       "    </tr>\n",
       "    <tr>\n",
       "      <th>164</th>\n",
       "      <td>2400</td>\n",
       "      <td>2190.0</td>\n",
       "      <td>210.0</td>\n",
       "      <td>44100.0</td>\n",
       "    </tr>\n",
       "    <tr>\n",
       "      <th>34</th>\n",
       "      <td>1140</td>\n",
       "      <td>1200.0</td>\n",
       "      <td>-60.0</td>\n",
       "      <td>3600.0</td>\n",
       "    </tr>\n",
       "    <tr>\n",
       "      <th>167</th>\n",
       "      <td>1380</td>\n",
       "      <td>1470.0</td>\n",
       "      <td>-90.0</td>\n",
       "      <td>8100.0</td>\n",
       "    </tr>\n",
       "    <tr>\n",
       "      <th>158</th>\n",
       "      <td>1260</td>\n",
       "      <td>1470.0</td>\n",
       "      <td>-210.0</td>\n",
       "      <td>44100.0</td>\n",
       "    </tr>\n",
       "    <tr>\n",
       "      <th>113</th>\n",
       "      <td>2040</td>\n",
       "      <td>2640.0</td>\n",
       "      <td>-600.0</td>\n",
       "      <td>360000.0</td>\n",
       "    </tr>\n",
       "    <tr>\n",
       "      <th>46</th>\n",
       "      <td>1230</td>\n",
       "      <td>1200.0</td>\n",
       "      <td>30.0</td>\n",
       "      <td>900.0</td>\n",
       "    </tr>\n",
       "    <tr>\n",
       "      <th>39</th>\n",
       "      <td>1200</td>\n",
       "      <td>1110.0</td>\n",
       "      <td>90.0</td>\n",
       "      <td>8100.0</td>\n",
       "    </tr>\n",
       "    <tr>\n",
       "      <th>84</th>\n",
       "      <td>1140</td>\n",
       "      <td>1350.0</td>\n",
       "      <td>-210.0</td>\n",
       "      <td>44100.0</td>\n",
       "    </tr>\n",
       "    <tr>\n",
       "      <th>149</th>\n",
       "      <td>1920</td>\n",
       "      <td>2640.0</td>\n",
       "      <td>-720.0</td>\n",
       "      <td>518400.0</td>\n",
       "    </tr>\n",
       "    <tr>\n",
       "      <th>87</th>\n",
       "      <td>960</td>\n",
       "      <td>870.0</td>\n",
       "      <td>90.0</td>\n",
       "      <td>8100.0</td>\n",
       "    </tr>\n",
       "    <tr>\n",
       "      <th>118</th>\n",
       "      <td>1890</td>\n",
       "      <td>1800.0</td>\n",
       "      <td>90.0</td>\n",
       "      <td>8100.0</td>\n",
       "    </tr>\n",
       "    <tr>\n",
       "      <th>81</th>\n",
       "      <td>1170</td>\n",
       "      <td>1350.0</td>\n",
       "      <td>-180.0</td>\n",
       "      <td>32400.0</td>\n",
       "    </tr>\n",
       "    <tr>\n",
       "      <th>97</th>\n",
       "      <td>1050</td>\n",
       "      <td>1170.0</td>\n",
       "      <td>-120.0</td>\n",
       "      <td>14400.0</td>\n",
       "    </tr>\n",
       "    <tr>\n",
       "      <th>76</th>\n",
       "      <td>900</td>\n",
       "      <td>870.0</td>\n",
       "      <td>30.0</td>\n",
       "      <td>900.0</td>\n",
       "    </tr>\n",
       "    <tr>\n",
       "      <th>100</th>\n",
       "      <td>1230</td>\n",
       "      <td>1200.0</td>\n",
       "      <td>30.0</td>\n",
       "      <td>900.0</td>\n",
       "    </tr>\n",
       "    <tr>\n",
       "      <th>178</th>\n",
       "      <td>2280</td>\n",
       "      <td>1950.0</td>\n",
       "      <td>330.0</td>\n",
       "      <td>108900.0</td>\n",
       "    </tr>\n",
       "    <tr>\n",
       "      <th>53</th>\n",
       "      <td>1230</td>\n",
       "      <td>1350.0</td>\n",
       "      <td>-120.0</td>\n",
       "      <td>14400.0</td>\n",
       "    </tr>\n",
       "  </tbody>\n",
       "</table>\n",
       "</div>"
      ],
      "text/plain": [
       "     perf    pred  error  square_error\n",
       "89   2220  2460.0 -240.0       57600.0\n",
       "112  1200  1170.0   30.0         900.0\n",
       "95   1050   870.0  180.0       32400.0\n",
       "164  2400  2190.0  210.0       44100.0\n",
       "34   1140  1200.0  -60.0        3600.0\n",
       "167  1380  1470.0  -90.0        8100.0\n",
       "158  1260  1470.0 -210.0       44100.0\n",
       "113  2040  2640.0 -600.0      360000.0\n",
       "46   1230  1200.0   30.0         900.0\n",
       "39   1200  1110.0   90.0        8100.0\n",
       "84   1140  1350.0 -210.0       44100.0\n",
       "149  1920  2640.0 -720.0      518400.0\n",
       "87    960   870.0   90.0        8100.0\n",
       "118  1890  1800.0   90.0        8100.0\n",
       "81   1170  1350.0 -180.0       32400.0\n",
       "97   1050  1170.0 -120.0       14400.0\n",
       "76    900   870.0   30.0         900.0\n",
       "100  1230  1200.0   30.0         900.0\n",
       "178  2280  1950.0  330.0      108900.0\n",
       "53   1230  1350.0 -120.0       14400.0"
      ]
     },
     "execution_count": 42,
     "metadata": {},
     "output_type": "execute_result"
    }
   ],
   "source": [
    "ndf"
   ]
  },
  {
   "cell_type": "code",
   "execution_count": 44,
   "metadata": {},
   "outputs": [
    {
     "data": {
      "text/plain": [
       "65520.0"
      ]
     },
     "execution_count": 44,
     "metadata": {},
     "output_type": "execute_result"
    }
   ],
   "source": [
    "mse(ndf['perf'],ndf['pred'])"
   ]
  },
  {
   "cell_type": "code",
   "execution_count": null,
   "metadata": {},
   "outputs": [],
   "source": []
  }
 ],
 "metadata": {
  "kernelspec": {
   "display_name": "Python 3",
   "language": "python",
   "name": "python3"
  },
  "language_info": {
   "codemirror_mode": {
    "name": "ipython",
    "version": 3
   },
   "file_extension": ".py",
   "mimetype": "text/x-python",
   "name": "python",
   "nbconvert_exporter": "python",
   "pygments_lexer": "ipython3",
   "version": "3.6.4"
  }
 },
 "nbformat": 4,
 "nbformat_minor": 2
}
