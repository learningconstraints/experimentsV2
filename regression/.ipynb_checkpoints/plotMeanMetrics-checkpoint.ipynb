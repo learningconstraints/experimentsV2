{
 "cells": [
  {
   "cell_type": "code",
   "execution_count": 1,
   "metadata": {},
   "outputs": [],
   "source": [
    "#Params\n",
    "datasetPath = \"../datasets/\"\n",
    "dataPath = \"./data-mean/\"\n",
    "resultPath = \"./results-mean/\"\n",
    "\n",
    "names  =c(\"Apache\",\"BerkeleyC\",\"BerkeleyJ\",\"Dune\",\"HIPAcc\",\"HSMGP\",\"JavaGC\",\"LLVM\",\"SQLite\")"
   ]
  },
  {
   "cell_type": "code",
   "execution_count": 2,
   "metadata": {},
   "outputs": [],
   "source": [
    "library(ggplot2)\n",
    "library(plyr)\n",
    "library(reshape2)\n",
    "library(tools)"
   ]
  },
  {
   "cell_type": "code",
   "execution_count": 3,
   "metadata": {},
   "outputs": [],
   "source": [
    "processData <- function(data,nconfigurations){\n",
    "  \n",
    "  #Adding a helper colum\n",
    "  data$index <- 1\n",
    "  data$index <- ave(data$index, cumsum(c(F, diff(data$sr) > 0)), FUN=seq_along)\n",
    "  data$freq<-ave( as.numeric(data[[1]]), data[[\"sr\"]] , FUN=length)\n",
    "  data$index= data$index * 100 / data$freq\n",
    "  \n",
    "  #CALCULATE METRICS\n",
    "  data$Accuracy = (data$TP+data$TN)/(data$TP+data$TN+data$FN+data$FP)\n",
    "  data$Specificity=data$TN/(data$TN+data$FP)\n",
    "  data$FPR=data$FP/as.numeric(nconfigurations)\n",
    "  data$FNR=data$FN/as.numeric(nconfigurations)\n",
    "  data$Precision=data$TP/(data$TP + data$FP)\n",
    "  data$Recall = data$TP / (data$TP+ data$FN) # Recall of class 1\n",
    "  data$NPV=data$TN/(data$TN+data$FN)\n",
    "\n",
    "  data$configpercentage=data$sr*100/nconfigurations\n",
    "  \n",
    "  #This melting is because the data wasn't in the proper csv style\n",
    "  data<-melt(data, id.vars = c(\"FN\",\"FP\",\"TN\",\"TP\",\"sr\",\"index\",\"freq\",\"dataset\",\"configpercentage\"))\n",
    "  \n",
    "  return(data)\n",
    "}\n",
    "\n",
    "draw<-function(datasets){\n",
    "  for (v in unique(datasets$variable)){\n",
    "    datatmp=datasets[which(datasets$variable == v),]\n",
    "    \n",
    "    #Generate the plot\n",
    "    plot<-ggplot(datatmp,aes(configpercentage,value),group=dataset)+geom_line(aes(linetype=dataset))+ theme_bw()+\n",
    "      xlab(\"Percentage of configurations in the training set\") + \n",
    "      ylab(paste(\"Mean \",v,\" Value\",sep=\"\"))+\n",
    "      theme(axis.text = element_text(size = rel(2)),axis.title= element_text(size = rel(2)))\n",
    "    #savetheplot\n",
    "    ggsave(plot,file=paste(resultPath, name, \"-\", v, \".pdf\", sep = \"\"), width=11, height=11)\n",
    "  }\n",
    "}"
   ]
  },
  {
   "cell_type": "code",
   "execution_count": 4,
   "metadata": {},
   "outputs": [
    {
     "name": "stderr",
     "output_type": "stream",
     "text": [
      "Warning message in file(file, \"rt\"):\n",
      "“impossible d'ouvrir le fichier './data-mean//HSMGP-classification-mean.csv' : No such file or directory”"
     ]
    },
    {
     "ename": "ERROR",
     "evalue": "Error in file(file, \"rt\"): impossible d'ouvrir la connexion\n",
     "output_type": "error",
     "traceback": [
      "Error in file(file, \"rt\"): impossible d'ouvrir la connexion\nTraceback:\n",
      "1. read.csv(filename)",
      "2. read.table(file = file, header = header, sep = sep, quote = quote, \n .     dec = dec, fill = fill, comment.char = comment.char, ...)",
      "3. file(file, \"rt\")"
     ]
    }
   ],
   "source": [
    "for(name in names){\n",
    "    datasets = data.frame()\n",
    "\n",
    "    filename<-paste(dataPath,\"/\",name,\"-classification-mean.csv\",sep=\"\")\n",
    "    filenameDataset<-paste(datasetPath,name,\".csv\",sep=\"\")\n",
    "    tmp= read.csv(filename)\n",
    "    tmp$dataset <- \"Classification\"\n",
    "    command<-paste(\"wc -l \",filenameDataset,sep=\"\")\n",
    "    pipewc<-pipe(command)\n",
    "    lines<-(scan(pipewc, what=list(0, NULL))[[1]])\n",
    "    close(pipewc)\n",
    "    tmp<-processData(tmp,lines)\n",
    "    datasets=rbind(datasets,tmp)\n",
    "\n",
    "    filename<-paste(dataPath,\"/\",name,\"-classification_strat-mean.csv\",sep=\"\")\n",
    "    filenameDataset<-paste(datasetPath,name,\".csv\",sep=\"\")\n",
    "    tmp= read.csv(filename)\n",
    "    tmp$dataset <- \"Multiclasse (6)\"\n",
    "    command<-paste(\"wc -l \",filenameDataset,sep=\"\")\n",
    "    pipewc<-pipe(command)\n",
    "    lines<-(scan(pipewc, what=list(0, NULL))[[1]])\n",
    "    close(pipewc)\n",
    "    tmp<-processData(tmp,lines)\n",
    "    datasets=rbind(datasets,tmp)\n",
    "    \n",
    "    filename<-paste(dataPath,\"/\",name,\"-regression-mean.csv\",sep=\"\")\n",
    "    filenameDataset<-paste(datasetPath,name,\".csv\",sep=\"\")\n",
    "    tmp= read.csv(filename)\n",
    "    tmp$dataset <- \"Regression\"\n",
    "    command<-paste(\"wc -l \",filenameDataset,sep=\"\")\n",
    "    pipewc<-pipe(command)\n",
    "    lines<-(scan(pipewc, what=list(0, NULL))[[1]])\n",
    "    close(pipewc)\n",
    "    tmp<-processData(tmp,lines)\n",
    "    datasets=rbind(datasets,tmp)\n",
    "\n",
    "    draw(datasets)\n",
    "}"
   ]
  },
  {
   "cell_type": "code",
   "execution_count": null,
   "metadata": {
    "collapsed": true
   },
   "outputs": [],
   "source": []
  }
 ],
 "metadata": {
  "kernelspec": {
   "display_name": "R",
   "language": "R",
   "name": "ir"
  },
  "language_info": {
   "codemirror_mode": "r",
   "file_extension": ".r",
   "mimetype": "text/x-r-source",
   "name": "R",
   "pygments_lexer": "r",
   "version": "3.4.3"
  }
 },
 "nbformat": 4,
 "nbformat_minor": 2
}
